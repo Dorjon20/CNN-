{
 "cells": [
  {
   "cell_type": "code",
   "execution_count": 1,
   "id": "c3fce639-f8c0-4cee-91b8-c7efc623c8bc",
   "metadata": {},
   "outputs": [
    {
     "name": "stdout",
     "output_type": "stream",
     "text": [
      "Epoch 1/5\n"
     ]
    },
    {
     "name": "stderr",
     "output_type": "stream",
     "text": [
      "/opt/anaconda3/lib/python3.11/site-packages/keras/src/layers/convolutional/base_conv.py:107: UserWarning: Do not pass an `input_shape`/`input_dim` argument to a layer. When using Sequential models, prefer using an `Input(shape)` object as the first layer in the model instead.\n",
      "  super().__init__(activity_regularizer=activity_regularizer, **kwargs)\n"
     ]
    },
    {
     "name": "stdout",
     "output_type": "stream",
     "text": [
      "\u001b[1m25/25\u001b[0m \u001b[32m━━━━━━━━━━━━━━━━━━━━\u001b[0m\u001b[37m\u001b[0m \u001b[1m0s\u001b[0m 4ms/step - accuracy: 0.5124 - loss: 0.7041 - val_accuracy: 0.5000 - val_loss: 0.7010\n",
      "Epoch 2/5\n",
      "\u001b[1m25/25\u001b[0m \u001b[32m━━━━━━━━━━━━━━━━━━━━\u001b[0m\u001b[37m\u001b[0m \u001b[1m0s\u001b[0m 2ms/step - accuracy: 0.4967 - loss: 0.6955 - val_accuracy: 0.4600 - val_loss: 0.6982\n",
      "Epoch 3/5\n",
      "\u001b[1m25/25\u001b[0m \u001b[32m━━━━━━━━━━━━━━━━━━━━\u001b[0m\u001b[37m\u001b[0m \u001b[1m0s\u001b[0m 2ms/step - accuracy: 0.4926 - loss: 0.6993 - val_accuracy: 0.5000 - val_loss: 0.6994\n",
      "Epoch 4/5\n",
      "\u001b[1m25/25\u001b[0m \u001b[32m━━━━━━━━━━━━━━━━━━━━\u001b[0m\u001b[37m\u001b[0m \u001b[1m0s\u001b[0m 2ms/step - accuracy: 0.5359 - loss: 0.6906 - val_accuracy: 0.4800 - val_loss: 0.6989\n",
      "Epoch 5/5\n",
      "\u001b[1m25/25\u001b[0m \u001b[32m━━━━━━━━━━━━━━━━━━━━\u001b[0m\u001b[37m\u001b[0m \u001b[1m0s\u001b[0m 2ms/step - accuracy: 0.5856 - loss: 0.6871 - val_accuracy: 0.4700 - val_loss: 0.6984\n"
     ]
    },
    {
     "data": {
      "text/plain": [
       "<keras.src.callbacks.history.History at 0x14f8e9710>"
      ]
     },
     "execution_count": 1,
     "metadata": {},
     "output_type": "execute_result"
    }
   ],
   "source": [
    "import pandas as pd\n",
    "import numpy as np\n",
    "import tensorflow as tf\n",
    "from tensorflow.keras import Sequential\n",
    "from tensorflow.keras.layers import Conv2D, MaxPooling2D, Flatten, Dense, Dropout\n",
    "\n",
    "# 1. Generate synthetic data and save to CSV\n",
    "num_samples = 1000\n",
    "height, width = 8, 8  # Small 8x8 images\n",
    "\n",
    "# Random pixel data in [0,1] and binary labels (0 or 1)\n",
    "X_data = np.random.rand(num_samples, height, width)\n",
    "y_data = np.random.randint(2, size=num_samples)\n",
    "\n",
    "# Create a DataFrame with 'label' + flattened pixels\n",
    "rows = []\n",
    "for i in range(num_samples):\n",
    "    row = [y_data[i]] + X_data[i].flatten().tolist()\n",
    "    rows.append(row)\n",
    "\n",
    "columns = ['label'] + [f'pix_{i}' for i in range(height * width)]\n",
    "df = pd.DataFrame(rows, columns=columns)\n",
    "df.to_csv('synthetic_images.csv', index=False)\n",
    "\n",
    "# 2. Read the CSV\n",
    "data = pd.read_csv('synthetic_images.csv')\n",
    "labels = data['label'].values\n",
    "pixels = data.drop('label', axis=1).values\n",
    "\n",
    "# Reshape from (num_samples, 64) -> (num_samples, 8, 8, 1)\n",
    "pixels = pixels.reshape(-1, height, width, 1).astype('float32')\n",
    "\n",
    "# 3. Define a simple CNN model\n",
    "model = Sequential([\n",
    "    Conv2D(16, kernel_size=3, activation='relu', input_shape=(height, width, 1)),\n",
    "    MaxPooling2D(),\n",
    "    Flatten(),\n",
    "    Dense(32, activation='relu'),\n",
    "    Dropout(0.2),\n",
    "    Dense(1, activation='sigmoid')  # Binary classification\n",
    "])\n",
    "\n",
    "model.compile(optimizer='adam', loss='binary_crossentropy', metrics=['accuracy'])\n",
    "\n",
    "# 4. Train the CNN\n",
    "model.fit(pixels, labels, epochs=5, batch_size=32, validation_split=0.2)\n",
    "\n"
   ]
  },
  {
   "cell_type": "code",
   "execution_count": null,
   "id": "873e233a-16d1-4882-a8e7-72917d2a4556",
   "metadata": {},
   "outputs": [],
   "source": []
  }
 ],
 "metadata": {
  "kernelspec": {
   "display_name": "Python 3 (ipykernel)",
   "language": "python",
   "name": "python3"
  },
  "language_info": {
   "codemirror_mode": {
    "name": "ipython",
    "version": 3
   },
   "file_extension": ".py",
   "mimetype": "text/x-python",
   "name": "python",
   "nbconvert_exporter": "python",
   "pygments_lexer": "ipython3",
   "version": "3.11.7"
  }
 },
 "nbformat": 4,
 "nbformat_minor": 5
}
